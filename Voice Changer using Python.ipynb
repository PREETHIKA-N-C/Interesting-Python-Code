{
 "cells": [
  {
   "cell_type": "code",
   "execution_count": 1,
   "id": "cb5fd5a4",
   "metadata": {},
   "outputs": [],
   "source": [
    "#pip install SpeechRecognition\n",
    "#pip install pyaudio\n",
    "import speech_recognition as sr"
   ]
  },
  {
   "cell_type": "code",
   "execution_count": 2,
   "id": "71292aed",
   "metadata": {},
   "outputs": [],
   "source": [
    "#pip install gTTS\n",
    "from gtts import gTTS"
   ]
  },
  {
   "cell_type": "code",
   "execution_count": 3,
   "id": "8a377308",
   "metadata": {},
   "outputs": [],
   "source": [
    "import os"
   ]
  },
  {
   "cell_type": "code",
   "execution_count": 4,
   "id": "df7e2200",
   "metadata": {},
   "outputs": [
    {
     "name": "stdout",
     "output_type": "stream",
     "text": [
      "say something\n",
      "hai\n",
      "this is Ritika\n",
      "how's going on\n",
      "say something\n",
      "bye\n"
     ]
    }
   ],
   "source": [
    "voice = \" \"\n",
    "while True:\n",
    "    e = sr.Recognizer()\n",
    "    with sr.Microphone() as source:\n",
    "        try:\n",
    "            audio = e.listen(source)\n",
    "            text = e.recognize_google(audio)\n",
    "            print(text)\n",
    "            if text == \"bye\":\n",
    "                break\n",
    "            text = e.recognize_google(audio)\n",
    "            voice = voice + str(text)\n",
    "        except:\n",
    "            print(\"say something\")\n",
    "Robotic_Voice = gTTS(text = voice, lang = \"en\", slow = False)\n",
    "Robotic_Voice.save(\"voicechanger.wave\") #audio file will be saved in the same folder where you run the python code"
   ]
  },
  {
   "cell_type": "code",
   "execution_count": null,
   "id": "fdf110f2",
   "metadata": {},
   "outputs": [],
   "source": []
  }
 ],
 "metadata": {
  "kernelspec": {
   "display_name": "Python 3 (ipykernel)",
   "language": "python",
   "name": "python3"
  },
  "language_info": {
   "codemirror_mode": {
    "name": "ipython",
    "version": 3
   },
   "file_extension": ".py",
   "mimetype": "text/x-python",
   "name": "python",
   "nbconvert_exporter": "python",
   "pygments_lexer": "ipython3",
   "version": "3.9.12"
  }
 },
 "nbformat": 4,
 "nbformat_minor": 5
}
