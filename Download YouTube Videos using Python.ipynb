{
 "cells": [
  {
   "cell_type": "code",
   "execution_count": 1,
   "id": "9b168796",
   "metadata": {},
   "outputs": [
    {
     "data": {
      "text/plain": [
       "'C:\\\\Users\\\\ncpre\\\\Desktop\\\\Machine Learning\\\\The 10 Best Places To Live In The Alberta  Canada.3gpp'"
      ]
     },
     "execution_count": 1,
     "metadata": {},
     "output_type": "execute_result"
    }
   ],
   "source": [
    "#install pytube \n",
    "#pip install pytube\n",
    "from pytube import YouTube\n",
    "link = \"https://youtu.be/PSlvE--Mnzw\"\n",
    "youtube = YouTube(link)\n",
    "youtube.streams.first().download()"
   ]
  },
  {
   "cell_type": "code",
   "execution_count": null,
   "id": "071c8f52",
   "metadata": {},
   "outputs": [],
   "source": []
  }
 ],
 "metadata": {
  "kernelspec": {
   "display_name": "Python 3 (ipykernel)",
   "language": "python",
   "name": "python3"
  },
  "language_info": {
   "codemirror_mode": {
    "name": "ipython",
    "version": 3
   },
   "file_extension": ".py",
   "mimetype": "text/x-python",
   "name": "python",
   "nbconvert_exporter": "python",
   "pygments_lexer": "ipython3",
   "version": "3.9.12"
  }
 },
 "nbformat": 4,
 "nbformat_minor": 5
}
